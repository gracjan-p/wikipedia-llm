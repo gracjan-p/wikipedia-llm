{
 "cells": [
  {
   "metadata": {},
   "cell_type": "markdown",
   "source": "#### setup",
   "id": "b25d011a625f00c8"
  },
  {
   "metadata": {
    "ExecuteTime": {
     "end_time": "2025-02-23T21:42:28.187311Z",
     "start_time": "2025-02-23T21:42:25.183959Z"
    }
   },
   "cell_type": "code",
   "source": [
    "import torch\n",
    "\n",
    "torch.random.manual_seed(42)\n",
    "\n",
    "cuda_available = torch.cuda.is_available()\n",
    "\n",
    "if cuda_available:\n",
    "    dev_count = torch.cuda.device_count()\n",
    "    dev_current = torch.cuda.current_device()\n",
    "    dev_name = torch.cuda.get_device_name(dev_current)\n",
    "    print(f'Device count: {dev_count}')\n",
    "    print(f'Current device: {dev_current}')\n",
    "    print(f'Device name: {dev_name}')"
   ],
   "id": "e3a1e5b98b8ec9bf",
   "outputs": [
    {
     "name": "stdout",
     "output_type": "stream",
     "text": [
      "Device count: 1\n",
      "Current device: 0\n",
      "Device name: NVIDIA GeForce RTX 3060\n"
     ]
    }
   ],
   "execution_count": 1
  },
  {
   "metadata": {},
   "cell_type": "markdown",
   "source": "#### data",
   "id": "ddac5660f595d9d6"
  },
  {
   "metadata": {
    "ExecuteTime": {
     "end_time": "2025-02-23T22:43:10.144416Z",
     "start_time": "2025-02-23T22:43:10.002522Z"
    }
   },
   "cell_type": "code",
   "source": [
    "import polars as pl\n",
    "import os\n",
    "\n",
    "data_path = 'D:\\\\data-science\\\\wikipedia\\\\parq'\n",
    "\n",
    "all_files = os.listdir(data_path)\n",
    "\n",
    "df_list = [pl.read_parquet(os.path.join(data_path, all_files[-1]))]\n",
    "\n",
    "df = pl.concat(df_list)"
   ],
   "id": "c252307a0e3536d3",
   "outputs": [],
   "execution_count": 15
  },
  {
   "metadata": {
    "ExecuteTime": {
     "end_time": "2025-02-23T22:43:10.520610Z",
     "start_time": "2025-02-23T22:43:10.513625Z"
    }
   },
   "cell_type": "code",
   "source": [
    "df = df.drop(['id', 'url'])\n",
    "df"
   ],
   "id": "24756a04e3e65984",
   "outputs": [
    {
     "data": {
      "text/plain": [
       "shape: (157_528, 2)\n",
       "┌─────────────────────────────────┬─────────────────────────────────┐\n",
       "│ title                           ┆ text                            │\n",
       "│ ---                             ┆ ---                             │\n",
       "│ str                             ┆ str                             │\n",
       "╞═════════════════════════════════╪═════════════════════════════════╡\n",
       "│ The Angel of 8th Ave.           ┆ \"The Angel of 8th Ave.\" (styli… │\n",
       "│ Hurricane Municipal Airport     ┆ Hurricane Municipal Airport , … │\n",
       "│ Satin berrypecker               ┆ The satin berrypecker (Melanoc… │\n",
       "│ Cassinia complanata             ┆ Cassinia complanata, commonly … │\n",
       "│ Monoporella                     ┆ Monoporella is a genus of bryo… │\n",
       "│ …                               ┆ …                               │\n",
       "│ Bianca Fernandez                ┆ Bianca Jolie Fernandez (born 2… │\n",
       "│ Condons and Clangibbon          ┆ Condons and Clangibbon () is a… │\n",
       "│ 2022 Chattanooga Red Wolves SC… ┆ The 2022 Chattanooga Red Wolve… │\n",
       "│ Nkiko Prosper                   ┆ Turatsinze Nkiko Prosper (born… │\n",
       "│ Michael O'Donnell (Missouri po… ┆ Michael A. O'Donnell (born Jun… │\n",
       "└─────────────────────────────────┴─────────────────────────────────┘"
      ],
      "text/html": [
       "<div><style>\n",
       ".dataframe > thead > tr,\n",
       ".dataframe > tbody > tr {\n",
       "  text-align: right;\n",
       "  white-space: pre-wrap;\n",
       "}\n",
       "</style>\n",
       "<small>shape: (157_528, 2)</small><table border=\"1\" class=\"dataframe\"><thead><tr><th>title</th><th>text</th></tr><tr><td>str</td><td>str</td></tr></thead><tbody><tr><td>&quot;The Angel of 8th Ave.&quot;</td><td>&quot;&quot;The Angel of 8th Ave.&quot; (styli…</td></tr><tr><td>&quot;Hurricane Municipal Airport&quot;</td><td>&quot;Hurricane Municipal Airport , …</td></tr><tr><td>&quot;Satin berrypecker&quot;</td><td>&quot;The satin berrypecker (Melanoc…</td></tr><tr><td>&quot;Cassinia complanata&quot;</td><td>&quot;Cassinia complanata, commonly …</td></tr><tr><td>&quot;Monoporella&quot;</td><td>&quot;Monoporella is a genus of bryo…</td></tr><tr><td>&hellip;</td><td>&hellip;</td></tr><tr><td>&quot;Bianca Fernandez&quot;</td><td>&quot;Bianca Jolie Fernandez (born 2…</td></tr><tr><td>&quot;Condons and Clangibbon&quot;</td><td>&quot;Condons and Clangibbon () is a…</td></tr><tr><td>&quot;2022 Chattanooga Red Wolves SC…</td><td>&quot;The 2022 Chattanooga Red Wolve…</td></tr><tr><td>&quot;Nkiko Prosper&quot;</td><td>&quot;Turatsinze Nkiko Prosper (born…</td></tr><tr><td>&quot;Michael O&#x27;Donnell (Missouri po…</td><td>&quot;Michael A. O&#x27;Donnell (born Jun…</td></tr></tbody></table></div>"
      ]
     },
     "execution_count": 16,
     "metadata": {},
     "output_type": "execute_result"
    }
   ],
   "execution_count": 16
  },
  {
   "metadata": {
    "ExecuteTime": {
     "end_time": "2025-02-23T22:43:14.945856Z",
     "start_time": "2025-02-23T22:43:14.160929Z"
    }
   },
   "cell_type": "code",
   "source": [
    "df = df.with_columns(\n",
    "    pl.col('text')\n",
    "    .str.replace_all(r'\\n+', ' ')\n",
    "    .str.replace_all(r'\\s+', ' ')\n",
    ")"
   ],
   "id": "d7e97892263ceddc",
   "outputs": [],
   "execution_count": 17
  },
  {
   "metadata": {},
   "cell_type": "markdown",
   "source": "#### saving tokens",
   "id": "fd9c5125c691ace5"
  },
  {
   "metadata": {
    "ExecuteTime": {
     "end_time": "2025-02-23T22:43:16.952111Z",
     "start_time": "2025-02-23T22:43:16.858822Z"
    }
   },
   "cell_type": "code",
   "source": [
    "from transformers import AutoTokenizer\n",
    "\n",
    "tokenizer = AutoTokenizer.from_pretrained('bert-base-uncased')\n",
    "\n",
    "special_tokens = {\n",
    "    'pad_token': '[PAD]',\n",
    "    'bos_token': '[BOS]',\n",
    "    'eos_token': '[EOS]'\n",
    "}\n",
    "\n",
    "tokenizer.add_special_tokens(special_tokens)"
   ],
   "id": "5dbdee70f3ec8f1f",
   "outputs": [
    {
     "data": {
      "text/plain": [
       "2"
      ]
     },
     "execution_count": 18,
     "metadata": {},
     "output_type": "execute_result"
    }
   ],
   "execution_count": 18
  },
  {
   "metadata": {
    "ExecuteTime": {
     "end_time": "2025-02-23T22:52:49.554668Z",
     "start_time": "2025-02-23T22:52:49.348018Z"
    }
   },
   "cell_type": "code",
   "source": "df = df.with_columns(pl.col('text').str.split(' ').list.len().alias('length'))",
   "id": "905ca05fbc28224",
   "outputs": [],
   "execution_count": 36
  },
  {
   "metadata": {
    "ExecuteTime": {
     "end_time": "2025-02-23T22:57:24.816119Z",
     "start_time": "2025-02-23T22:57:24.809978Z"
    }
   },
   "cell_type": "code",
   "source": "df['length'].mean()",
   "id": "f5803521a6b28498",
   "outputs": [
    {
     "data": {
      "text/plain": [
       "313.7274008430247"
      ]
     },
     "execution_count": 47,
     "metadata": {},
     "output_type": "execute_result"
    }
   ],
   "execution_count": 47
  },
  {
   "metadata": {
    "ExecuteTime": {
     "end_time": "2025-02-23T21:45:24.673525Z",
     "start_time": "2025-02-23T21:43:47.890145Z"
    }
   },
   "cell_type": "code",
   "source": [
    "df_sample = df[:15_000]\n",
    "chunk_size = 1_000\n",
    "tokenized_chunks = []\n",
    "\n",
    "for i in range(0, len(df), chunk_size):\n",
    "    chunk = df[i:i+chunk_size]['text'].to_list()\n",
    "    tokenized_chunk = tokenizer(chunk, return_tensors='pt', max_length=512, padding='longest', truncation=True)\n",
    "    tokenized_chunks.append(tokenized_chunk['input_ids'])"
   ],
   "id": "8726a7f304481b8e",
   "outputs": [],
   "execution_count": 12
  },
  {
   "metadata": {
    "ExecuteTime": {
     "end_time": "2025-02-23T21:45:44.207416Z",
     "start_time": "2025-02-23T21:45:44.124543Z"
    }
   },
   "cell_type": "code",
   "source": [
    "tokenized_text = torch.concatenate(tokenized_chunks)\n",
    "tokenized_text.shape"
   ],
   "id": "c78f0527dd2aec83",
   "outputs": [
    {
     "data": {
      "text/plain": [
       "torch.Size([157528, 256])"
      ]
     },
     "execution_count": 13,
     "metadata": {},
     "output_type": "execute_result"
    }
   ],
   "execution_count": 13
  },
  {
   "metadata": {},
   "cell_type": "markdown",
   "source": "#### dataloader",
   "id": "527d66d570beb6dd"
  },
  {
   "metadata": {
    "ExecuteTime": {
     "end_time": "2025-02-23T21:45:52.686287Z",
     "start_time": "2025-02-23T21:45:52.195757Z"
    }
   },
   "cell_type": "code",
   "source": "torch.save(tokenized_text, 'D:\\\\data-science\\\\wikipedia\\\\tokens\\\\tokenized_text.pt')",
   "id": "e4f8e1ed7f5ba62c",
   "outputs": [],
   "execution_count": 14
  }
 ],
 "metadata": {
  "kernelspec": {
   "display_name": "Python 3",
   "language": "python",
   "name": "python3"
  },
  "language_info": {
   "codemirror_mode": {
    "name": "ipython",
    "version": 2
   },
   "file_extension": ".py",
   "mimetype": "text/x-python",
   "name": "python",
   "nbconvert_exporter": "python",
   "pygments_lexer": "ipython2",
   "version": "2.7.6"
  }
 },
 "nbformat": 4,
 "nbformat_minor": 5
}
