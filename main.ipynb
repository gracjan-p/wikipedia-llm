{
 "cells": [
  {
   "metadata": {},
   "cell_type": "markdown",
   "source": "",
   "id": "8a77807f92f26ee"
  },
  {
   "metadata": {
    "ExecuteTime": {
     "end_time": "2025-01-26T23:21:57.113951Z",
     "start_time": "2025-01-26T23:21:54.270178Z"
    }
   },
   "cell_type": "code",
   "source": [
    "import os\n",
    "from datasets import load_dataset\n",
    "import polars as pl\n",
    "import matplotlib.pyplot as plt\n",
    "\n",
    "os.environ['HF_HOME'] = 'D:\\\\data-science\\\\HF_HOME'"
   ],
   "id": "7df9140457caed5e",
   "outputs": [],
   "execution_count": 1
  },
  {
   "metadata": {},
   "cell_type": "code",
   "source": [
    "data_files = \"D:\\\\data-science\\\\wikipedia\\\\*.parquet\"\n",
    "dataset = load_dataset(\"parquet\", data_files=data_files)"
   ],
   "id": "82dd4e6230ad6020",
   "outputs": [],
   "execution_count": null
  },
  {
   "metadata": {
    "ExecuteTime": {
     "end_time": "2025-01-26T23:30:22.848446Z",
     "start_time": "2025-01-26T23:30:17.685480Z"
    }
   },
   "cell_type": "code",
   "source": [
    "data_path = 'D:\\\\data-science\\\\wikipedia'\n",
    "\n",
    "all_files = os.listdir(data_path)\n",
    "#\n",
    "# df_list = [pl.read_parquet(os.path.join(data_path, all_files[0]))]\n",
    "df_list = [pl.read_parquet(os.path.join(data_path, file)) for file in all_files[:10]]\n",
    "df = pl.concat(df_list)"
   ],
   "id": "c252307a0e3536d3",
   "outputs": [],
   "execution_count": 19
  },
  {
   "metadata": {
    "ExecuteTime": {
     "end_time": "2025-01-26T23:30:29.115310Z",
     "start_time": "2025-01-26T23:30:29.108309Z"
    }
   },
   "cell_type": "code",
   "source": "df = df.drop(['id', 'url'])",
   "id": "24756a04e3e65984",
   "outputs": [],
   "execution_count": 20
  },
  {
   "metadata": {
    "ExecuteTime": {
     "end_time": "2025-01-26T23:30:46.482018Z",
     "start_time": "2025-01-26T23:30:46.471909Z"
    }
   },
   "cell_type": "code",
   "source": "df",
   "id": "c580440537fad49a",
   "outputs": [
    {
     "data": {
      "text/plain": [
       "shape: (1_575_290, 2)\n",
       "┌─────────────────────────────────┬─────────────────────────────────┐\n",
       "│ title                           ┆ text                            │\n",
       "│ ---                             ┆ ---                             │\n",
       "│ str                             ┆ str                             │\n",
       "╞═════════════════════════════════╪═════════════════════════════════╡\n",
       "│ Anarchism                       ┆ Anarchism is a political philo… │\n",
       "│ Autism                          ┆ Autism is a neurodevelopmental… │\n",
       "│ Albedo                          ┆ Albedo (; ) is the measure of … │\n",
       "│ A                               ┆ A, or a, is the first letter a… │\n",
       "│ Alabama                         ┆ Alabama () is a state in the S… │\n",
       "│ …                               ┆ …                               │\n",
       "│ Edgerton School District        ┆ Edgerton School District is lo… │\n",
       "│ List of Huguenots               ┆ Some notable French Huguenots … │\n",
       "│ Hoh (disambiguation)            ┆ Hoh or HOH most commonly refer… │\n",
       "│ Alive & Well: Recorded in Pari… ┆ Alive & Well: Recorded in Pari… │\n",
       "│ Richard Sanders                 ┆ Richard or Rick Sanders may re… │\n",
       "└─────────────────────────────────┴─────────────────────────────────┘"
      ],
      "text/html": [
       "<div><style>\n",
       ".dataframe > thead > tr,\n",
       ".dataframe > tbody > tr {\n",
       "  text-align: right;\n",
       "  white-space: pre-wrap;\n",
       "}\n",
       "</style>\n",
       "<small>shape: (1_575_290, 2)</small><table border=\"1\" class=\"dataframe\"><thead><tr><th>title</th><th>text</th></tr><tr><td>str</td><td>str</td></tr></thead><tbody><tr><td>&quot;Anarchism&quot;</td><td>&quot;Anarchism is a political philo…</td></tr><tr><td>&quot;Autism&quot;</td><td>&quot;Autism is a neurodevelopmental…</td></tr><tr><td>&quot;Albedo&quot;</td><td>&quot;Albedo (; ) is the measure of …</td></tr><tr><td>&quot;A&quot;</td><td>&quot;A, or a, is the first letter a…</td></tr><tr><td>&quot;Alabama&quot;</td><td>&quot;Alabama () is a state in the S…</td></tr><tr><td>&hellip;</td><td>&hellip;</td></tr><tr><td>&quot;Edgerton School District&quot;</td><td>&quot;Edgerton School District is lo…</td></tr><tr><td>&quot;List of Huguenots&quot;</td><td>&quot;Some notable French Huguenots …</td></tr><tr><td>&quot;Hoh (disambiguation)&quot;</td><td>&quot;Hoh or HOH most commonly refer…</td></tr><tr><td>&quot;Alive &amp; Well: Recorded in Pari…</td><td>&quot;Alive &amp; Well: Recorded in Pari…</td></tr><tr><td>&quot;Richard Sanders&quot;</td><td>&quot;Richard or Rick Sanders may re…</td></tr></tbody></table></div>"
      ]
     },
     "execution_count": 22,
     "metadata": {},
     "output_type": "execute_result"
    }
   ],
   "execution_count": 22
  }
 ],
 "metadata": {
  "kernelspec": {
   "display_name": "Python 3",
   "language": "python",
   "name": "python3"
  },
  "language_info": {
   "codemirror_mode": {
    "name": "ipython",
    "version": 2
   },
   "file_extension": ".py",
   "mimetype": "text/x-python",
   "name": "python",
   "nbconvert_exporter": "python",
   "pygments_lexer": "ipython2",
   "version": "2.7.6"
  }
 },
 "nbformat": 4,
 "nbformat_minor": 5
}
